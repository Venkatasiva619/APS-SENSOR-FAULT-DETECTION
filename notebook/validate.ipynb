{
 "cells": [
  {
   "cell_type": "code",
   "execution_count": 2,
   "metadata": {},
   "outputs": [],
   "source": [
    "import numpy as np\n",
    "from scipy import stats\n",
    "rng = np.random.default_rng()\n",
    "sample1 = stats.uniform.rvs(size=100, random_state=rng)\n",
    "sample2 = stats.norm.rvs(size=110, random_state=rng)\n",
    "response = stats.ks_2samp(sample1, sample2)"
   ]
  },
  {
   "cell_type": "code",
   "execution_count": 3,
   "metadata": {},
   "outputs": [
    {
     "data": {
      "text/plain": [
       "array([0.51562399, 0.95146219, 0.40955331, 0.36952319, 0.45486175,\n",
       "       0.79031081, 0.18618964, 0.38343789, 0.58285556, 0.17467704,\n",
       "       0.77488935, 0.08380188, 0.32393723, 0.57362888, 0.04652438,\n",
       "       0.21794043, 0.53262214, 0.33101081, 0.5580957 , 0.26284812,\n",
       "       0.59115837, 0.21218986, 0.46873021, 0.49676933, 0.57175595,\n",
       "       0.55512125, 0.84589338, 0.64131004, 0.69171207, 0.09598545,\n",
       "       0.61548138, 0.77822091, 0.9016106 , 0.33215534, 0.75152549,\n",
       "       0.77688636, 0.49583104, 0.47218359, 0.62963863, 0.19039911,\n",
       "       0.38134007, 0.62797046, 0.70135947, 0.42352422, 0.10453618,\n",
       "       0.65799356, 0.51827121, 0.06888411, 0.90126707, 0.66772967,\n",
       "       0.26229704, 0.96657473, 0.16340752, 0.59188185, 0.89302547,\n",
       "       0.34748447, 0.73523753, 0.27220806, 0.64797877, 0.83742936,\n",
       "       0.27871902, 0.92432225, 0.28245506, 0.68153895, 0.17299759,\n",
       "       0.83384009, 0.0086607 , 0.88635941, 0.98814067, 0.89639188,\n",
       "       0.59515532, 0.56235528, 0.61188683, 0.79136785, 0.75055128,\n",
       "       0.00425225, 0.89714421, 0.67373354, 0.07751895, 0.28942106,\n",
       "       0.82082653, 0.08838553, 0.66283907, 0.67025825, 0.92017596,\n",
       "       0.0741066 , 0.02786819, 0.83189806, 0.32283012, 0.92985375,\n",
       "       0.78944066, 0.59164319, 0.60311077, 0.88301044, 0.00747845,\n",
       "       0.79728769, 0.23515497, 0.86990889, 0.32131249, 0.07192323])"
      ]
     },
     "execution_count": 3,
     "metadata": {},
     "output_type": "execute_result"
    }
   ],
   "source": [
    "sample1"
   ]
  },
  {
   "cell_type": "code",
   "execution_count": 4,
   "metadata": {},
   "outputs": [
    {
     "data": {
      "text/plain": [
       "array([ 8.79401308e-01,  9.29925662e-01,  4.50229122e-02, -9.30569652e-01,\n",
       "        1.26207450e+00,  5.56160438e-01, -7.39204543e-01,  1.88688131e-02,\n",
       "        1.69884354e-01, -3.08110641e-01, -1.82697943e+00,  1.14621453e+00,\n",
       "        7.57507691e-01, -1.13278484e+00, -2.55227008e-01,  1.61445235e-01,\n",
       "        3.99120119e-01, -6.69898159e-01,  5.90774380e-01, -1.88323210e+00,\n",
       "       -6.36812795e-01, -1.72377372e+00,  9.75886533e-02,  3.14364027e-01,\n",
       "       -7.24661765e-01, -1.39442501e+00, -2.22020158e+00, -4.44598432e-01,\n",
       "        3.71851101e-01,  8.11460866e-01,  1.90855548e+00, -3.84978888e-01,\n",
       "       -2.27311152e-01,  8.72715867e-01, -1.00129954e+00,  1.07658882e+00,\n",
       "        9.12287624e-01,  2.08142886e+00, -1.54690338e+00,  5.07907871e-01,\n",
       "       -1.86462728e+00,  2.44902190e+00, -1.20007675e+00, -4.11228340e-01,\n",
       "        1.64486538e-01, -4.64482532e-01, -1.22210448e+00, -1.04709807e+00,\n",
       "        2.41304003e-02, -1.18059383e+00,  3.15058518e-03,  8.75307383e-01,\n",
       "        4.07282867e-01, -2.07305994e-01,  8.18366229e-01,  4.07501113e-02,\n",
       "        8.68636202e-01,  1.03327543e+00, -6.87074312e-01, -1.00938131e+00,\n",
       "        1.30724438e+00,  2.78435952e-01,  1.78863880e-02,  2.61874943e-03,\n",
       "        3.02688611e+00, -7.50682599e-01,  8.32155620e-01,  7.58464912e-01,\n",
       "       -1.16193091e+00,  1.19602038e-01,  1.49552120e+00,  1.55087532e+00,\n",
       "       -7.34367961e-02, -1.45342250e+00,  4.21373867e-01,  3.29173001e-01,\n",
       "       -6.18482718e-02,  1.29145975e+00, -5.31724404e-01, -1.13520775e+00,\n",
       "        7.82296258e-01,  9.84884567e-01, -9.08907164e-01, -1.47123137e+00,\n",
       "       -1.04260233e+00, -5.18270628e-01, -2.68116328e-01, -3.09308057e-01,\n",
       "       -1.59213612e+00, -5.74754954e-01,  9.65021457e-01,  6.49943992e-01,\n",
       "        1.54220144e+00,  7.19321876e-01, -9.08167689e-01,  1.19087051e+00,\n",
       "       -1.12671995e+00,  1.41918409e+00,  3.40916986e-01, -7.44213811e-01,\n",
       "       -2.09366981e-01,  2.17508376e-01, -3.78890693e-01,  4.60342277e-01,\n",
       "        2.97065414e-01,  6.17603326e-01, -2.53601054e-01, -4.24958582e-01,\n",
       "        1.28031102e+00, -1.10751451e+00])"
      ]
     },
     "execution_count": 4,
     "metadata": {},
     "output_type": "execute_result"
    }
   ],
   "source": [
    "sample2"
   ]
  },
  {
   "cell_type": "code",
   "execution_count": 5,
   "metadata": {},
   "outputs": [
    {
     "data": {
      "text/plain": [
       "7.9745e-12"
      ]
     },
     "execution_count": 5,
     "metadata": {},
     "output_type": "execute_result"
    }
   ],
   "source": [
    "round(response.pvalue,16)"
   ]
  },
  {
   "cell_type": "code",
   "execution_count": 7,
   "metadata": {},
   "outputs": [],
   "source": [
    "#Anomly in my dataset\n",
    "# \n",
    "# 1.High Null Value\n",
    "#2. Missing COlumns\n",
    "#3. Outlier\n",
    "#4. Categorical: \n",
    "#Gender--> MALE, FEMALE,OTHER\n"
   ]
  },
  {
   "cell_type": "code",
   "execution_count": 8,
   "metadata": {},
   "outputs": [],
   "source": [
    "import pandas as pd"
   ]
  },
  {
   "cell_type": "code",
   "execution_count": 9,
   "metadata": {},
   "outputs": [
    {
     "name": "stdout",
     "output_type": "stream",
     "text": [
      "1 4\n",
      "2 5\n",
      "3 6\n",
      "4 7\n"
     ]
    }
   ],
   "source": [
    "l1=[1,2,3,4]\n",
    "l2=[4,5,6,7]\n",
    "\n",
    "for l1_val,l2_val in zip(l1,l2):\n",
    "    print(l1_val,l2_val)"
   ]
  },
  {
   "cell_type": "code",
   "execution_count": 11,
   "metadata": {},
   "outputs": [
    {
     "ename": "ParserError",
     "evalue": "Error tokenizing data. C error: Expected 1 fields in line 6, saw 2\n",
     "output_type": "error",
     "traceback": [
      "\u001b[0;31m---------------------------------------------------------------------------\u001b[0m",
      "\u001b[0;31mParserError\u001b[0m                               Traceback (most recent call last)",
      "Cell \u001b[0;32mIn[11], line 1\u001b[0m\n\u001b[0;32m----> 1\u001b[0m df \u001b[38;5;241m=\u001b[39m \u001b[43mpd\u001b[49m\u001b[38;5;241;43m.\u001b[39;49m\u001b[43mread_csv\u001b[49m\u001b[43m(\u001b[49m\u001b[38;5;124;43m\"\u001b[39;49m\u001b[38;5;124;43m/config/workspace/sensor/components/data_ingestion.py\u001b[39;49m\u001b[38;5;124;43m\"\u001b[39;49m\u001b[43m)\u001b[49m\n",
      "File \u001b[0;32m~/.local/lib/python3.8/site-packages/pandas/io/parsers/readers.py:912\u001b[0m, in \u001b[0;36mread_csv\u001b[0;34m(filepath_or_buffer, sep, delimiter, header, names, index_col, usecols, dtype, engine, converters, true_values, false_values, skipinitialspace, skiprows, skipfooter, nrows, na_values, keep_default_na, na_filter, verbose, skip_blank_lines, parse_dates, infer_datetime_format, keep_date_col, date_parser, date_format, dayfirst, cache_dates, iterator, chunksize, compression, thousands, decimal, lineterminator, quotechar, quoting, doublequote, escapechar, comment, encoding, encoding_errors, dialect, on_bad_lines, delim_whitespace, low_memory, memory_map, float_precision, storage_options, dtype_backend)\u001b[0m\n\u001b[1;32m    899\u001b[0m kwds_defaults \u001b[39m=\u001b[39m _refine_defaults_read(\n\u001b[1;32m    900\u001b[0m     dialect,\n\u001b[1;32m    901\u001b[0m     delimiter,\n\u001b[0;32m   (...)\u001b[0m\n\u001b[1;32m    908\u001b[0m     dtype_backend\u001b[39m=\u001b[39mdtype_backend,\n\u001b[1;32m    909\u001b[0m )\n\u001b[1;32m    910\u001b[0m kwds\u001b[39m.\u001b[39mupdate(kwds_defaults)\n\u001b[0;32m--> 912\u001b[0m \u001b[39mreturn\u001b[39;00m _read(filepath_or_buffer, kwds)\n",
      "File \u001b[0;32m~/.local/lib/python3.8/site-packages/pandas/io/parsers/readers.py:583\u001b[0m, in \u001b[0;36m_read\u001b[0;34m(filepath_or_buffer, kwds)\u001b[0m\n\u001b[1;32m    580\u001b[0m     \u001b[39mreturn\u001b[39;00m parser\n\u001b[1;32m    582\u001b[0m \u001b[39mwith\u001b[39;00m parser:\n\u001b[0;32m--> 583\u001b[0m     \u001b[39mreturn\u001b[39;00m parser\u001b[39m.\u001b[39;49mread(nrows)\n",
      "File \u001b[0;32m~/.local/lib/python3.8/site-packages/pandas/io/parsers/readers.py:1704\u001b[0m, in \u001b[0;36mTextFileReader.read\u001b[0;34m(self, nrows)\u001b[0m\n\u001b[1;32m   1697\u001b[0m nrows \u001b[39m=\u001b[39m validate_integer(\u001b[39m\"\u001b[39m\u001b[39mnrows\u001b[39m\u001b[39m\"\u001b[39m, nrows)\n\u001b[1;32m   1698\u001b[0m \u001b[39mtry\u001b[39;00m:\n\u001b[1;32m   1699\u001b[0m     \u001b[39m# error: \"ParserBase\" has no attribute \"read\"\u001b[39;00m\n\u001b[1;32m   1700\u001b[0m     (\n\u001b[1;32m   1701\u001b[0m         index,\n\u001b[1;32m   1702\u001b[0m         columns,\n\u001b[1;32m   1703\u001b[0m         col_dict,\n\u001b[0;32m-> 1704\u001b[0m     ) \u001b[39m=\u001b[39m \u001b[39mself\u001b[39;49m\u001b[39m.\u001b[39;49m_engine\u001b[39m.\u001b[39;49mread(  \u001b[39m# type: ignore[attr-defined]\u001b[39;49;00m\n\u001b[1;32m   1705\u001b[0m         nrows\n\u001b[1;32m   1706\u001b[0m     )\n\u001b[1;32m   1707\u001b[0m \u001b[39mexcept\u001b[39;00m \u001b[39mException\u001b[39;00m:\n\u001b[1;32m   1708\u001b[0m     \u001b[39mself\u001b[39m\u001b[39m.\u001b[39mclose()\n",
      "File \u001b[0;32m~/.local/lib/python3.8/site-packages/pandas/io/parsers/c_parser_wrapper.py:234\u001b[0m, in \u001b[0;36mCParserWrapper.read\u001b[0;34m(self, nrows)\u001b[0m\n\u001b[1;32m    232\u001b[0m \u001b[39mtry\u001b[39;00m:\n\u001b[1;32m    233\u001b[0m     \u001b[39mif\u001b[39;00m \u001b[39mself\u001b[39m\u001b[39m.\u001b[39mlow_memory:\n\u001b[0;32m--> 234\u001b[0m         chunks \u001b[39m=\u001b[39m \u001b[39mself\u001b[39;49m\u001b[39m.\u001b[39;49m_reader\u001b[39m.\u001b[39;49mread_low_memory(nrows)\n\u001b[1;32m    235\u001b[0m         \u001b[39m# destructive to chunks\u001b[39;00m\n\u001b[1;32m    236\u001b[0m         data \u001b[39m=\u001b[39m _concatenate_chunks(chunks)\n",
      "File \u001b[0;32m~/.local/lib/python3.8/site-packages/pandas/_libs/parsers.pyx:812\u001b[0m, in \u001b[0;36mpandas._libs.parsers.TextReader.read_low_memory\u001b[0;34m()\u001b[0m\n",
      "File \u001b[0;32m~/.local/lib/python3.8/site-packages/pandas/_libs/parsers.pyx:873\u001b[0m, in \u001b[0;36mpandas._libs.parsers.TextReader._read_rows\u001b[0;34m()\u001b[0m\n",
      "File \u001b[0;32m~/.local/lib/python3.8/site-packages/pandas/_libs/parsers.pyx:848\u001b[0m, in \u001b[0;36mpandas._libs.parsers.TextReader._tokenize_rows\u001b[0;34m()\u001b[0m\n",
      "File \u001b[0;32m~/.local/lib/python3.8/site-packages/pandas/_libs/parsers.pyx:859\u001b[0m, in \u001b[0;36mpandas._libs.parsers.TextReader._check_tokenize_status\u001b[0;34m()\u001b[0m\n",
      "File \u001b[0;32m~/.local/lib/python3.8/site-packages/pandas/_libs/parsers.pyx:2025\u001b[0m, in \u001b[0;36mpandas._libs.parsers.raise_parser_error\u001b[0;34m()\u001b[0m\n",
      "\u001b[0;31mParserError\u001b[0m: Error tokenizing data. C error: Expected 1 fields in line 6, saw 2\n"
     ]
    }
   ],
   "source": [
    "df = pd.read_csv(\"/config/workspace/sensor/components/data_ingestion.py\")"
   ]
  },
  {
   "cell_type": "code",
   "execution_count": 38,
   "metadata": {},
   "outputs": [
    {
     "data": {
      "text/plain": [
       "0"
      ]
     },
     "execution_count": 38,
     "metadata": {},
     "output_type": "execute_result"
    }
   ],
   "source": [
    "len(df.iloc[:,[0]].drop(\"class\",axis=1).columns)"
   ]
  },
  {
   "cell_type": "code",
   "execution_count": 28,
   "metadata": {},
   "outputs": [
    {
     "data": {
      "text/plain": [
       "Index(['ab_000', 'bk_000', 'bl_000', 'bm_000', 'bn_000', 'bo_000', 'bp_000',\n",
       "       'bq_000', 'br_000', 'cr_000'],\n",
       "      dtype='object')"
      ]
     },
     "execution_count": 28,
     "metadata": {},
     "output_type": "execute_result"
    }
   ],
   "source": []
  },
  {
   "cell_type": "code",
   "execution_count": 1,
   "metadata": {},
   "outputs": [],
   "source": [
    "from glob import glob"
   ]
  },
  {
   "cell_type": "code",
   "execution_count": 5,
   "metadata": {},
   "outputs": [
    {
     "data": {
      "text/plain": [
       "['/config/workspace/saved_models/1/model/model.pkl']"
      ]
     },
     "execution_count": 5,
     "metadata": {},
     "output_type": "execute_result"
    }
   ],
   "source": [
    "glob(\"/config/workspace/saved_models/1/**/*.pkl\")"
   ]
  },
  {
   "cell_type": "code",
   "execution_count": 7,
   "metadata": {},
   "outputs": [
    {
     "data": {
      "text/plain": [
       "'1'"
      ]
     },
     "execution_count": 7,
     "metadata": {},
     "output_type": "execute_result"
    }
   ],
   "source": [
    "import os\n",
    "\n",
    "os.path.basename(\"saved_mode/1\")"
   ]
  },
  {
   "cell_type": "code",
   "execution_count": null,
   "metadata": {},
   "outputs": [],
   "source": []
  }
 ],
 "metadata": {
  "kernelspec": {
   "display_name": "Python 3.8.10 64-bit",
   "language": "python",
   "name": "python3"
  },
  "language_info": {
   "codemirror_mode": {
    "name": "ipython",
    "version": 3
   },
   "file_extension": ".py",
   "mimetype": "text/x-python",
   "name": "python",
   "nbconvert_exporter": "python",
   "pygments_lexer": "ipython3",
   "version": "3.8.10"
  },
  "orig_nbformat": 4,
  "vscode": {
   "interpreter": {
    "hash": "e7370f93d1d0cde622a1f8e1c04877d8463912d04d973331ad4851f04de6915a"
   }
  }
 },
 "nbformat": 4,
 "nbformat_minor": 2
}
